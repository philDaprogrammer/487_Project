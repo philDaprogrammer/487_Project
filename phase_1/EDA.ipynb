{
 "cells": [
  {
   "cell_type": "code",
   "execution_count": 38,
   "id": "c4098cb0",
   "metadata": {},
   "outputs": [],
   "source": [
    "import pandas as pd\n",
    "import numpy as np\n",
    "import matplotlib.pyplot as plt"
   ]
  },
  {
   "cell_type": "code",
   "execution_count": 39,
   "id": "39436eac",
   "metadata": {},
   "outputs": [],
   "source": [
    "df = pd.read_csv(r'../data_sets/final_results.csv')"
   ]
  },
  {
   "cell_type": "code",
   "execution_count": 40,
   "id": "6e7b43f9",
   "metadata": {},
   "outputs": [
    {
     "data": {
      "text/plain": [
       "array(['NYJ', 'CLE', 'CHI', 'TEN', 'KC', 'TB', 'SEA', 'NE', 'SF', 'WAS',\n",
       "       'MIA', 'IND', 'BUF', 'HOU', 'ARI', 'PHI', 'DET', 'LA', 'DEN',\n",
       "       'MIN', 'CAR', 'ATL', 'OAK', 'PIT', 'JAX', 'NO', 'DAL', 'LAC',\n",
       "       'BAL', 'CIN', 'NYG', 'GB'], dtype=object)"
      ]
     },
     "execution_count": 40,
     "metadata": {},
     "output_type": "execute_result"
    }
   ],
   "source": [
    "df['team'].unique()"
   ]
  },
  {
   "cell_type": "code",
   "execution_count": 77,
   "id": "0e030f9c",
   "metadata": {},
   "outputs": [
    {
     "data": {
      "text/html": [
       "<div>\n",
       "<style scoped>\n",
       "    .dataframe tbody tr th:only-of-type {\n",
       "        vertical-align: middle;\n",
       "    }\n",
       "\n",
       "    .dataframe tbody tr th {\n",
       "        vertical-align: top;\n",
       "    }\n",
       "\n",
       "    .dataframe thead th {\n",
       "        text-align: right;\n",
       "    }\n",
       "</style>\n",
       "<table border=\"1\" class=\"dataframe\">\n",
       "  <thead>\n",
       "    <tr style=\"text-align: right;\">\n",
       "      <th></th>\n",
       "      <th>Unnamed: 0</th>\n",
       "      <th>index</th>\n",
       "      <th>playerName</th>\n",
       "      <th>totalCash</th>\n",
       "      <th>team</th>\n",
       "      <th>salary</th>\n",
       "      <th>year</th>\n",
       "      <th>position</th>\n",
       "      <th>team_record</th>\n",
       "    </tr>\n",
       "  </thead>\n",
       "  <tbody>\n",
       "    <tr>\n",
       "      <th>26</th>\n",
       "      <td>26</td>\n",
       "      <td>29</td>\n",
       "      <td>Keith Towbridge</td>\n",
       "      <td>465000</td>\n",
       "      <td>BUF</td>\n",
       "      <td>465000</td>\n",
       "      <td>2017</td>\n",
       "      <td>TE</td>\n",
       "      <td>9-8-0</td>\n",
       "    </tr>\n",
       "    <tr>\n",
       "      <th>27</th>\n",
       "      <td>27</td>\n",
       "      <td>30</td>\n",
       "      <td>Keith Towbridge</td>\n",
       "      <td>555000</td>\n",
       "      <td>BUF</td>\n",
       "      <td>555000</td>\n",
       "      <td>2018</td>\n",
       "      <td>TE</td>\n",
       "      <td>5-9-0</td>\n",
       "    </tr>\n",
       "    <tr>\n",
       "      <th>118</th>\n",
       "      <td>118</td>\n",
       "      <td>131</td>\n",
       "      <td>Chris Gragg</td>\n",
       "      <td>464175</td>\n",
       "      <td>BUF</td>\n",
       "      <td>405000</td>\n",
       "      <td>2013</td>\n",
       "      <td>TE</td>\n",
       "      <td>6-10-0</td>\n",
       "    </tr>\n",
       "    <tr>\n",
       "      <th>119</th>\n",
       "      <td>119</td>\n",
       "      <td>132</td>\n",
       "      <td>Chris Gragg</td>\n",
       "      <td>495000</td>\n",
       "      <td>BUF</td>\n",
       "      <td>495000</td>\n",
       "      <td>2014</td>\n",
       "      <td>TE</td>\n",
       "      <td>9-7-0</td>\n",
       "    </tr>\n",
       "    <tr>\n",
       "      <th>120</th>\n",
       "      <td>120</td>\n",
       "      <td>133</td>\n",
       "      <td>Chris Gragg</td>\n",
       "      <td>585000</td>\n",
       "      <td>BUF</td>\n",
       "      <td>585000</td>\n",
       "      <td>2015</td>\n",
       "      <td>TE</td>\n",
       "      <td>7-8-0</td>\n",
       "    </tr>\n",
       "    <tr>\n",
       "      <th>...</th>\n",
       "      <td>...</td>\n",
       "      <td>...</td>\n",
       "      <td>...</td>\n",
       "      <td>...</td>\n",
       "      <td>...</td>\n",
       "      <td>...</td>\n",
       "      <td>...</td>\n",
       "      <td>...</td>\n",
       "      <td>...</td>\n",
       "    </tr>\n",
       "    <tr>\n",
       "      <th>2382</th>\n",
       "      <td>2382</td>\n",
       "      <td>2768</td>\n",
       "      <td>Deonte Thompson</td>\n",
       "      <td>501470</td>\n",
       "      <td>BUF</td>\n",
       "      <td>501471</td>\n",
       "      <td>2017</td>\n",
       "      <td>WR</td>\n",
       "      <td>9-8-0</td>\n",
       "    </tr>\n",
       "    <tr>\n",
       "      <th>2466</th>\n",
       "      <td>2466</td>\n",
       "      <td>2864</td>\n",
       "      <td>Corey Graham</td>\n",
       "      <td>5550000</td>\n",
       "      <td>BUF</td>\n",
       "      <td>1500000</td>\n",
       "      <td>2014</td>\n",
       "      <td>DB</td>\n",
       "      <td>9-7-0</td>\n",
       "    </tr>\n",
       "    <tr>\n",
       "      <th>2467</th>\n",
       "      <td>2467</td>\n",
       "      <td>2865</td>\n",
       "      <td>Corey Graham</td>\n",
       "      <td>3450000</td>\n",
       "      <td>BUF</td>\n",
       "      <td>2750000</td>\n",
       "      <td>2015</td>\n",
       "      <td>DB</td>\n",
       "      <td>7-8-0</td>\n",
       "    </tr>\n",
       "    <tr>\n",
       "      <th>2468</th>\n",
       "      <td>2468</td>\n",
       "      <td>2866</td>\n",
       "      <td>Corey Graham</td>\n",
       "      <td>4375000</td>\n",
       "      <td>BUF</td>\n",
       "      <td>3125000</td>\n",
       "      <td>2016</td>\n",
       "      <td>DB</td>\n",
       "      <td>8-8-0</td>\n",
       "    </tr>\n",
       "    <tr>\n",
       "      <th>2489</th>\n",
       "      <td>2489</td>\n",
       "      <td>2896</td>\n",
       "      <td>Ross Cockrell</td>\n",
       "      <td>887552</td>\n",
       "      <td>BUF</td>\n",
       "      <td>420000</td>\n",
       "      <td>2014</td>\n",
       "      <td>DB</td>\n",
       "      <td>9-7-0</td>\n",
       "    </tr>\n",
       "  </tbody>\n",
       "</table>\n",
       "<p>67 rows × 9 columns</p>\n",
       "</div>"
      ],
      "text/plain": [
       "      Unnamed: 0  index       playerName  totalCash team   salary  year  \\\n",
       "26            26     29  Keith Towbridge     465000  BUF   465000  2017   \n",
       "27            27     30  Keith Towbridge     555000  BUF   555000  2018   \n",
       "118          118    131      Chris Gragg     464175  BUF   405000  2013   \n",
       "119          119    132      Chris Gragg     495000  BUF   495000  2014   \n",
       "120          120    133      Chris Gragg     585000  BUF   585000  2015   \n",
       "...          ...    ...              ...        ...  ...      ...   ...   \n",
       "2382        2382   2768  Deonte Thompson     501470  BUF   501471  2017   \n",
       "2466        2466   2864     Corey Graham    5550000  BUF  1500000  2014   \n",
       "2467        2467   2865     Corey Graham    3450000  BUF  2750000  2015   \n",
       "2468        2468   2866     Corey Graham    4375000  BUF  3125000  2016   \n",
       "2489        2489   2896    Ross Cockrell     887552  BUF   420000  2014   \n",
       "\n",
       "     position team_record  \n",
       "26         TE       9-8-0  \n",
       "27         TE       5-9-0  \n",
       "118        TE      6-10-0  \n",
       "119        TE       9-7-0  \n",
       "120        TE       7-8-0  \n",
       "...       ...         ...  \n",
       "2382       WR       9-8-0  \n",
       "2466       DB       9-7-0  \n",
       "2467       DB       7-8-0  \n",
       "2468       DB       8-8-0  \n",
       "2489       DB       9-7-0  \n",
       "\n",
       "[67 rows x 9 columns]"
      ]
     },
     "execution_count": 77,
     "metadata": {},
     "output_type": "execute_result"
    }
   ],
   "source": [
    "df[df['team'] == 'BUF']"
   ]
  },
  {
   "cell_type": "code",
   "execution_count": 79,
   "id": "868e1abc",
   "metadata": {},
   "outputs": [
    {
     "data": {
      "text/plain": [
       "8-8-0     149\n",
       "11-5-0    134\n",
       "12-4-0    121\n",
       "9-8-0     117\n",
       "4-12-0     93\n",
       "         ... \n",
       "4-11-1      4\n",
       "5-10-1      4\n",
       "12-4-1      4\n",
       "15-1-0      4\n",
       "2-13-0      1\n",
       "Name: team_record, Length: 67, dtype: int64"
      ]
     },
     "execution_count": 79,
     "metadata": {},
     "output_type": "execute_result"
    }
   ],
   "source": [
    "df['team_record'].value_counts()"
   ]
  },
  {
   "cell_type": "code",
   "execution_count": 42,
   "id": "8738edeb",
   "metadata": {},
   "outputs": [],
   "source": [
    "df_2017 = df[df['year'] == 2017]"
   ]
  },
  {
   "cell_type": "code",
   "execution_count": 43,
   "id": "a326acb4",
   "metadata": {},
   "outputs": [],
   "source": [
    "rb_df = df_2017[df_2017['position'] == 'RB']"
   ]
  },
  {
   "cell_type": "code",
   "execution_count": 80,
   "id": "bf9dbd51",
   "metadata": {},
   "outputs": [],
   "source": [
    "rb_df = rb_df.groupby('team')\n"
   ]
  },
  {
   "cell_type": "code",
   "execution_count": 81,
   "id": "07ac5ed0",
   "metadata": {},
   "outputs": [
    {
     "ename": "AttributeError",
     "evalue": "'DataFrameGroupBy' object has no attribute 'reset_index'",
     "output_type": "error",
     "traceback": [
      "\u001b[0;31m---------------------------------------------------------------------------\u001b[0m",
      "\u001b[0;31mAttributeError\u001b[0m                            Traceback (most recent call last)",
      "Input \u001b[0;32mIn [81]\u001b[0m, in \u001b[0;36m<cell line: 1>\u001b[0;34m()\u001b[0m\n\u001b[0;32m----> 1\u001b[0m \u001b[43mrb_df\u001b[49m\u001b[38;5;241;43m.\u001b[39;49m\u001b[43mreset_index\u001b[49m(inplace\u001b[38;5;241m=\u001b[39m\u001b[38;5;28;01mTrue\u001b[39;00m)\n",
      "File \u001b[0;32m/opt/anaconda3/lib/python3.9/site-packages/pandas/core/groupby/groupby.py:904\u001b[0m, in \u001b[0;36mGroupBy.__getattr__\u001b[0;34m(self, attr)\u001b[0m\n\u001b[1;32m    901\u001b[0m \u001b[38;5;28;01mif\u001b[39;00m attr \u001b[38;5;129;01min\u001b[39;00m \u001b[38;5;28mself\u001b[39m\u001b[38;5;241m.\u001b[39mobj:\n\u001b[1;32m    902\u001b[0m     \u001b[38;5;28;01mreturn\u001b[39;00m \u001b[38;5;28mself\u001b[39m[attr]\n\u001b[0;32m--> 904\u001b[0m \u001b[38;5;28;01mraise\u001b[39;00m \u001b[38;5;167;01mAttributeError\u001b[39;00m(\n\u001b[1;32m    905\u001b[0m     \u001b[38;5;124mf\u001b[39m\u001b[38;5;124m\"\u001b[39m\u001b[38;5;124m'\u001b[39m\u001b[38;5;132;01m{\u001b[39;00m\u001b[38;5;28mtype\u001b[39m(\u001b[38;5;28mself\u001b[39m)\u001b[38;5;241m.\u001b[39m\u001b[38;5;18m__name__\u001b[39m\u001b[38;5;132;01m}\u001b[39;00m\u001b[38;5;124m'\u001b[39m\u001b[38;5;124m object has no attribute \u001b[39m\u001b[38;5;124m'\u001b[39m\u001b[38;5;132;01m{\u001b[39;00mattr\u001b[38;5;132;01m}\u001b[39;00m\u001b[38;5;124m'\u001b[39m\u001b[38;5;124m\"\u001b[39m\n\u001b[1;32m    906\u001b[0m )\n",
      "\u001b[0;31mAttributeError\u001b[0m: 'DataFrameGroupBy' object has no attribute 'reset_index'"
     ]
    }
   ],
   "source": [
    "rb_df.reset_index(inplace=True)"
   ]
  },
  {
   "cell_type": "code",
   "execution_count": 82,
   "id": "a3726937",
   "metadata": {},
   "outputs": [
    {
     "name": "stderr",
     "output_type": "stream",
     "text": [
      "/opt/anaconda3/lib/python3.9/site-packages/pandas/plotting/_matplotlib/core.py:386: RuntimeWarning: More than 20 figures have been opened. Figures created through the pyplot interface (`matplotlib.pyplot.figure`) are retained until explicitly closed and may consume too much memory. (To control this warning, see the rcParam `figure.max_open_warning`).\n",
      "  fig = self.plt.figure(figsize=self.figsize)\n"
     ]
    },
    {
     "data": {
      "image/png": "[encoded data removed]",
      "text/plain": [
       "<Figure size 432x288 with 1 Axes>"
      ]
     },
     "metadata": {
      "needs_background": "light"
     },
     "output_type": "display_data"
    },
    {
     "data": {
      "image/png": "[encoded data removed]",
      "text/plain": [
       "<Figure size 432x288 with 1 Axes>"
      ]
     },
     "metadata": {
      "needs_background": "light"
     },
     "output_type": "display_data"
    },
    {
     "data": {
      "image/png": "[encoded data removed]",
      "text/plain": [
       "<Figure size 432x288 with 1 Axes>"
      ]
     },
     "metadata": {
      "needs_background": "light"
     },
     "output_type": "display_data"
    },
    {
     "data": {
      "image/png": "[encoded data removed]",
      "text/plain": [
       "<Figure size 432x288 with 1 Axes>"
      ]
     },
     "metadata": {
      "needs_background": "light"
     },
     "output_type": "display_data"
    },
    {
     "data": {
      "image/png": "[encoded data removed]",
      "text/plain": [
       "<Figure size 432x288 with 1 Axes>"
      ]
     },
     "metadata": {
      "needs_background": "light"
     },
     "output_type": "display_data"
    },
    {
     "data": {
      "image/png": "[encoded data removed]",
      "text/plain": [
       "<Figure size 432x288 with 1 Axes>"
      ]
     },
     "metadata": {
      "needs_background": "light"
     },
     "output_type": "display_data"
    },
    {
     "data": {
      "image/png": "[encoded data removed]",
      "text/plain": [
       "<Figure size 432x288 with 1 Axes>"
      ]
     },
     "metadata": {
      "needs_background": "light"
     },
     "output_type": "display_data"
    },
    {
     "data": {
      "image/png": "[encoded data removed]",
      "text/plain": [
       "<Figure size 432x288 with 1 Axes>"
      ]
     },
     "metadata": {
      "needs_background": "light"
     },
     "output_type": "display_data"
    },
    {
     "data": {
      "image/png": "[encoded data removed]",
      "text/plain": [
       "<Figure size 432x288 with 1 Axes>"
      ]
     },
     "metadata": {
      "needs_background": "light"
     },
     "output_type": "display_data"
    },
    {
     "data": {
      "image/png": "[encoded data removed]",
      "text/plain": [
       "<Figure size 432x288 with 1 Axes>"
      ]
     },
     "metadata": {
      "needs_background": "light"
     },
     "output_type": "display_data"
    },
    {
     "data": {
      "image/png": "[encoded data removed]",
      "text/plain": [
       "<Figure size 432x288 with 1 Axes>"
      ]
     },
     "metadata": {
      "needs_background": "light"
     },
     "output_type": "display_data"
    },
    {
     "data": {
      "image/png": "[encoded data removed]",
      "text/plain": [
       "<Figure size 432x288 with 1 Axes>"
      ]
     },
     "metadata": {
      "needs_background": "light"
     },
     "output_type": "display_data"
    },
    {
     "data": {
      "image/png": "[encoded data removed]",
      "text/plain": [
       "<Figure size 432x288 with 1 Axes>"
      ]
     },
     "metadata": {
      "needs_background": "light"
     },
     "output_type": "display_data"
    },
    {
     "data": {
      "image/png": "[encoded data removed]",
      "text/plain": [
       "<Figure size 432x288 with 1 Axes>"
      ]
     },
     "metadata": {
      "needs_background": "light"
     },
     "output_type": "display_data"
    },
    {
     "data": {
      "image/png": "[encoded data removed]",
      "text/plain": [
       "<Figure size 432x288 with 1 Axes>"
      ]
     },
     "metadata": {
      "needs_background": "light"
     },
     "output_type": "display_data"
    },
    {
     "data": {
      "image/png": "[encoded data removed]",
      "text/plain": [
       "<Figure size 432x288 with 1 Axes>"
      ]
     },
     "metadata": {
      "needs_background": "light"
     },
     "output_type": "display_data"
    },
    {
     "data": {
      "image/png": "[encoded data removed]",
      "text/plain": [
       "<Figure size 432x288 with 1 Axes>"
      ]
     },
     "metadata": {
      "needs_background": "light"
     },
     "output_type": "display_data"
    },
    {
     "data": {
      "image/png": "[encoded data removed]",
      "text/plain": [
       "<Figure size 432x288 with 1 Axes>"
      ]
     },
     "metadata": {
      "needs_background": "light"
     },
     "output_type": "display_data"
    },
    {
     "data": {
      "image/png": "[encoded data removed]",
      "text/plain": [
       "<Figure size 432x288 with 1 Axes>"
      ]
     },
     "metadata": {
      "needs_background": "light"
     },
     "output_type": "display_data"
    },
    {
     "data": {
      "image/png": "[encoded data removed]",
      "text/plain": [
       "<Figure size 432x288 with 1 Axes>"
      ]
     },
     "metadata": {
      "needs_background": "light"
     },
     "output_type": "display_data"
    },
    {
     "data": {
      "image/png": "[encoded data removed]",
      "text/plain": [
       "<Figure size 432x288 with 1 Axes>"
      ]
     },
     "metadata": {
      "needs_background": "light"
     },
     "output_type": "display_data"
    },
    {
     "data": {
      "image/png": "[encoded data removed]",
      "text/plain": [
       "<Figure size 432x288 with 1 Axes>"
      ]
     },
     "metadata": {
      "needs_background": "light"
     },
     "output_type": "display_data"
    },
    {
     "data": {
      "image/png": "[encoded data removed]",
      "text/plain": [
       "<Figure size 432x288 with 1 Axes>"
      ]
     },
     "metadata": {
      "needs_background": "light"
     },
     "output_type": "display_data"
    },
    {
     "data": {
      "image/png": "[encoded data removed]",
      "text/plain": [
       "<Figure size 432x288 with 1 Axes>"
      ]
     },
     "metadata": {
      "needs_background": "light"
     },
     "output_type": "display_data"
    }
   ],
   "source": [
    "ax = rb_df.plot.bar(x='team', y='totalCash', rot=0 )"
   ]
  },
  {
   "cell_type": "code",
   "execution_count": 72,
   "id": "d92429e0",
   "metadata": {},
   "outputs": [],
   "source": [
    "all_teams = df_2017.groupby('team').sum()\n"
   ]
  },
  {
   "cell_type": "code",
   "execution_count": 73,
   "id": "903baa86",
   "metadata": {},
   "outputs": [],
   "source": [
    "all_teams.reset_index(inplace=True)"
   ]
  },
  {
   "cell_type": "code",
   "execution_count": 74,
   "id": "99a10c9d",
   "metadata": {},
   "outputs": [
    {
     "data": {
      "text/html": [
       "<div>\n",
       "<style scoped>\n",
       "    .dataframe tbody tr th:only-of-type {\n",
       "        vertical-align: middle;\n",
       "    }\n",
       "\n",
       "    .dataframe tbody tr th {\n",
       "        vertical-align: top;\n",
       "    }\n",
       "\n",
       "    .dataframe thead th {\n",
       "        text-align: right;\n",
       "    }\n",
       "</style>\n",
       "<table border=\"1\" class=\"dataframe\">\n",
       "  <thead>\n",
       "    <tr style=\"text-align: right;\">\n",
       "      <th></th>\n",
       "      <th>team</th>\n",
       "      <th>Unnamed: 0</th>\n",
       "      <th>index</th>\n",
       "      <th>totalCash</th>\n",
       "      <th>year</th>\n",
       "    </tr>\n",
       "  </thead>\n",
       "  <tbody>\n",
       "    <tr>\n",
       "      <th>0</th>\n",
       "      <td>ARI</td>\n",
       "      <td>19423</td>\n",
       "      <td>22459</td>\n",
       "      <td>36379291</td>\n",
       "      <td>32272</td>\n",
       "    </tr>\n",
       "    <tr>\n",
       "      <th>1</th>\n",
       "      <td>ATL</td>\n",
       "      <td>16966</td>\n",
       "      <td>19606</td>\n",
       "      <td>61371666</td>\n",
       "      <td>26221</td>\n",
       "    </tr>\n",
       "    <tr>\n",
       "      <th>2</th>\n",
       "      <td>BAL</td>\n",
       "      <td>37818</td>\n",
       "      <td>43775</td>\n",
       "      <td>46310617</td>\n",
       "      <td>52442</td>\n",
       "    </tr>\n",
       "    <tr>\n",
       "      <th>3</th>\n",
       "      <td>BUF</td>\n",
       "      <td>19242</td>\n",
       "      <td>22248</td>\n",
       "      <td>33324893</td>\n",
       "      <td>30255</td>\n",
       "    </tr>\n",
       "    <tr>\n",
       "      <th>4</th>\n",
       "      <td>CAR</td>\n",
       "      <td>23088</td>\n",
       "      <td>26625</td>\n",
       "      <td>77727134</td>\n",
       "      <td>44374</td>\n",
       "    </tr>\n",
       "    <tr>\n",
       "      <th>5</th>\n",
       "      <td>CHI</td>\n",
       "      <td>21474</td>\n",
       "      <td>24720</td>\n",
       "      <td>34456211</td>\n",
       "      <td>42357</td>\n",
       "    </tr>\n",
       "    <tr>\n",
       "      <th>6</th>\n",
       "      <td>CIN</td>\n",
       "      <td>14553</td>\n",
       "      <td>16798</td>\n",
       "      <td>29195916</td>\n",
       "      <td>24204</td>\n",
       "    </tr>\n",
       "    <tr>\n",
       "      <th>7</th>\n",
       "      <td>CLE</td>\n",
       "      <td>25871</td>\n",
       "      <td>29956</td>\n",
       "      <td>36754724</td>\n",
       "      <td>34289</td>\n",
       "    </tr>\n",
       "    <tr>\n",
       "      <th>8</th>\n",
       "      <td>DAL</td>\n",
       "      <td>28320</td>\n",
       "      <td>32757</td>\n",
       "      <td>31898266</td>\n",
       "      <td>40340</td>\n",
       "    </tr>\n",
       "    <tr>\n",
       "      <th>9</th>\n",
       "      <td>DEN</td>\n",
       "      <td>18671</td>\n",
       "      <td>21654</td>\n",
       "      <td>26959607</td>\n",
       "      <td>26221</td>\n",
       "    </tr>\n",
       "    <tr>\n",
       "      <th>10</th>\n",
       "      <td>DET</td>\n",
       "      <td>13144</td>\n",
       "      <td>15113</td>\n",
       "      <td>79987603</td>\n",
       "      <td>28238</td>\n",
       "    </tr>\n",
       "    <tr>\n",
       "      <th>11</th>\n",
       "      <td>GB</td>\n",
       "      <td>13226</td>\n",
       "      <td>15237</td>\n",
       "      <td>16516429</td>\n",
       "      <td>22187</td>\n",
       "    </tr>\n",
       "    <tr>\n",
       "      <th>12</th>\n",
       "      <td>HOU</td>\n",
       "      <td>16638</td>\n",
       "      <td>19228</td>\n",
       "      <td>40260973</td>\n",
       "      <td>30255</td>\n",
       "    </tr>\n",
       "    <tr>\n",
       "      <th>13</th>\n",
       "      <td>IND</td>\n",
       "      <td>20220</td>\n",
       "      <td>23328</td>\n",
       "      <td>25245384</td>\n",
       "      <td>40340</td>\n",
       "    </tr>\n",
       "    <tr>\n",
       "      <th>14</th>\n",
       "      <td>JAX</td>\n",
       "      <td>17848</td>\n",
       "      <td>20597</td>\n",
       "      <td>34954492</td>\n",
       "      <td>34289</td>\n",
       "    </tr>\n",
       "    <tr>\n",
       "      <th>15</th>\n",
       "      <td>KC</td>\n",
       "      <td>14263</td>\n",
       "      <td>16417</td>\n",
       "      <td>13556799</td>\n",
       "      <td>28238</td>\n",
       "    </tr>\n",
       "    <tr>\n",
       "      <th>16</th>\n",
       "      <td>LA</td>\n",
       "      <td>14401</td>\n",
       "      <td>16600</td>\n",
       "      <td>41450883</td>\n",
       "      <td>28238</td>\n",
       "    </tr>\n",
       "    <tr>\n",
       "      <th>17</th>\n",
       "      <td>LAC</td>\n",
       "      <td>26823</td>\n",
       "      <td>31036</td>\n",
       "      <td>22847353</td>\n",
       "      <td>44374</td>\n",
       "    </tr>\n",
       "    <tr>\n",
       "      <th>18</th>\n",
       "      <td>MIA</td>\n",
       "      <td>17888</td>\n",
       "      <td>20643</td>\n",
       "      <td>70180394</td>\n",
       "      <td>34289</td>\n",
       "    </tr>\n",
       "    <tr>\n",
       "      <th>19</th>\n",
       "      <td>MIN</td>\n",
       "      <td>8126</td>\n",
       "      <td>9399</td>\n",
       "      <td>16213132</td>\n",
       "      <td>22187</td>\n",
       "    </tr>\n",
       "    <tr>\n",
       "      <th>20</th>\n",
       "      <td>NE</td>\n",
       "      <td>22973</td>\n",
       "      <td>26486</td>\n",
       "      <td>44321496</td>\n",
       "      <td>42357</td>\n",
       "    </tr>\n",
       "    <tr>\n",
       "      <th>21</th>\n",
       "      <td>NO</td>\n",
       "      <td>20459</td>\n",
       "      <td>23681</td>\n",
       "      <td>19771160</td>\n",
       "      <td>30255</td>\n",
       "    </tr>\n",
       "    <tr>\n",
       "      <th>22</th>\n",
       "      <td>NYG</td>\n",
       "      <td>22422</td>\n",
       "      <td>25909</td>\n",
       "      <td>15841594</td>\n",
       "      <td>34289</td>\n",
       "    </tr>\n",
       "    <tr>\n",
       "      <th>23</th>\n",
       "      <td>NYJ</td>\n",
       "      <td>19296</td>\n",
       "      <td>22287</td>\n",
       "      <td>43818505</td>\n",
       "      <td>34289</td>\n",
       "    </tr>\n",
       "    <tr>\n",
       "      <th>24</th>\n",
       "      <td>OAK</td>\n",
       "      <td>25834</td>\n",
       "      <td>29887</td>\n",
       "      <td>50599773</td>\n",
       "      <td>36306</td>\n",
       "    </tr>\n",
       "    <tr>\n",
       "      <th>25</th>\n",
       "      <td>PHI</td>\n",
       "      <td>21986</td>\n",
       "      <td>25469</td>\n",
       "      <td>34791973</td>\n",
       "      <td>28238</td>\n",
       "    </tr>\n",
       "    <tr>\n",
       "      <th>26</th>\n",
       "      <td>PIT</td>\n",
       "      <td>20603</td>\n",
       "      <td>23891</td>\n",
       "      <td>49131654</td>\n",
       "      <td>24204</td>\n",
       "    </tr>\n",
       "    <tr>\n",
       "      <th>27</th>\n",
       "      <td>SEA</td>\n",
       "      <td>20917</td>\n",
       "      <td>24158</td>\n",
       "      <td>44694631</td>\n",
       "      <td>40340</td>\n",
       "    </tr>\n",
       "    <tr>\n",
       "      <th>28</th>\n",
       "      <td>SF</td>\n",
       "      <td>21564</td>\n",
       "      <td>24925</td>\n",
       "      <td>52205145</td>\n",
       "      <td>34289</td>\n",
       "    </tr>\n",
       "    <tr>\n",
       "      <th>29</th>\n",
       "      <td>TB</td>\n",
       "      <td>11344</td>\n",
       "      <td>13097</td>\n",
       "      <td>9324389</td>\n",
       "      <td>22187</td>\n",
       "    </tr>\n",
       "    <tr>\n",
       "      <th>30</th>\n",
       "      <td>TEN</td>\n",
       "      <td>21081</td>\n",
       "      <td>24396</td>\n",
       "      <td>60350680</td>\n",
       "      <td>40340</td>\n",
       "    </tr>\n",
       "    <tr>\n",
       "      <th>31</th>\n",
       "      <td>WAS</td>\n",
       "      <td>10402</td>\n",
       "      <td>12054</td>\n",
       "      <td>14351058</td>\n",
       "      <td>20170</td>\n",
       "    </tr>\n",
       "  </tbody>\n",
       "</table>\n",
       "</div>"
      ],
      "text/plain": [
       "   team  Unnamed: 0  index  totalCash   year\n",
       "0   ARI       19423  22459   36379291  32272\n",
       "1   ATL       16966  19606   61371666  26221\n",
       "2   BAL       37818  43775   46310617  52442\n",
       "3   BUF       19242  22248   33324893  30255\n",
       "4   CAR       23088  26625   77727134  44374\n",
       "5   CHI       21474  24720   34456211  42357\n",
       "6   CIN       14553  16798   29195916  24204\n",
       "7   CLE       25871  29956   36754724  34289\n",
       "8   DAL       28320  32757   31898266  40340\n",
       "9   DEN       18671  21654   26959607  26221\n",
       "10  DET       13144  15113   79987603  28238\n",
       "11   GB       13226  15237   16516429  22187\n",
       "12  HOU       16638  19228   40260973  30255\n",
       "13  IND       20220  23328   25245384  40340\n",
       "14  JAX       17848  20597   34954492  34289\n",
       "15   KC       14263  16417   13556799  28238\n",
       "16   LA       14401  16600   41450883  28238\n",
       "17  LAC       26823  31036   22847353  44374\n",
       "18  MIA       17888  20643   70180394  34289\n",
       "19  MIN        8126   9399   16213132  22187\n",
       "20   NE       22973  26486   44321496  42357\n",
       "21   NO       20459  23681   19771160  30255\n",
       "22  NYG       22422  25909   15841594  34289\n",
       "23  NYJ       19296  22287   43818505  34289\n",
       "24  OAK       25834  29887   50599773  36306\n",
       "25  PHI       21986  25469   34791973  28238\n",
       "26  PIT       20603  23891   49131654  24204\n",
       "27  SEA       20917  24158   44694631  40340\n",
       "28   SF       21564  24925   52205145  34289\n",
       "29   TB       11344  13097    9324389  22187\n",
       "30  TEN       21081  24396   60350680  40340\n",
       "31  WAS       10402  12054   14351058  20170"
      ]
     },
     "execution_count": 74,
     "metadata": {},
     "output_type": "execute_result"
    }
   ],
   "source": [
    "all_teams"
   ]
  },
  {
   "cell_type": "code",
   "execution_count": 75,
   "id": "e64ed557",
   "metadata": {},
   "outputs": [],
   "source": [
    "all_teams = all_teams.drop(columns = ['Unnamed: 0', 'index','year'])"
   ]
  },
  {
   "cell_type": "code",
   "execution_count": 76,
   "id": "40a70bc4",
   "metadata": {},
   "outputs": [
    {
     "data": {
      "text/html": [
       "<div>\n",
       "<style scoped>\n",
       "    .dataframe tbody tr th:only-of-type {\n",
       "        vertical-align: middle;\n",
       "    }\n",
       "\n",
       "    .dataframe tbody tr th {\n",
       "        vertical-align: top;\n",
       "    }\n",
       "\n",
       "    .dataframe thead th {\n",
       "        text-align: right;\n",
       "    }\n",
       "</style>\n",
       "<table border=\"1\" class=\"dataframe\">\n",
       "  <thead>\n",
       "    <tr style=\"text-align: right;\">\n",
       "      <th></th>\n",
       "      <th>team</th>\n",
       "      <th>totalCash</th>\n",
       "    </tr>\n",
       "  </thead>\n",
       "  <tbody>\n",
       "    <tr>\n",
       "      <th>0</th>\n",
       "      <td>ARI</td>\n",
       "      <td>36379291</td>\n",
       "    </tr>\n",
       "    <tr>\n",
       "      <th>1</th>\n",
       "      <td>ATL</td>\n",
       "      <td>61371666</td>\n",
       "    </tr>\n",
       "    <tr>\n",
       "      <th>2</th>\n",
       "      <td>BAL</td>\n",
       "      <td>46310617</td>\n",
       "    </tr>\n",
       "    <tr>\n",
       "      <th>3</th>\n",
       "      <td>BUF</td>\n",
       "      <td>33324893</td>\n",
       "    </tr>\n",
       "    <tr>\n",
       "      <th>4</th>\n",
       "      <td>CAR</td>\n",
       "      <td>77727134</td>\n",
       "    </tr>\n",
       "    <tr>\n",
       "      <th>5</th>\n",
       "      <td>CHI</td>\n",
       "      <td>34456211</td>\n",
       "    </tr>\n",
       "    <tr>\n",
       "      <th>6</th>\n",
       "      <td>CIN</td>\n",
       "      <td>29195916</td>\n",
       "    </tr>\n",
       "    <tr>\n",
       "      <th>7</th>\n",
       "      <td>CLE</td>\n",
       "      <td>36754724</td>\n",
       "    </tr>\n",
       "    <tr>\n",
       "      <th>8</th>\n",
       "      <td>DAL</td>\n",
       "      <td>31898266</td>\n",
       "    </tr>\n",
       "    <tr>\n",
       "      <th>9</th>\n",
       "      <td>DEN</td>\n",
       "      <td>26959607</td>\n",
       "    </tr>\n",
       "    <tr>\n",
       "      <th>10</th>\n",
       "      <td>DET</td>\n",
       "      <td>79987603</td>\n",
       "    </tr>\n",
       "    <tr>\n",
       "      <th>11</th>\n",
       "      <td>GB</td>\n",
       "      <td>16516429</td>\n",
       "    </tr>\n",
       "    <tr>\n",
       "      <th>12</th>\n",
       "      <td>HOU</td>\n",
       "      <td>40260973</td>\n",
       "    </tr>\n",
       "    <tr>\n",
       "      <th>13</th>\n",
       "      <td>IND</td>\n",
       "      <td>25245384</td>\n",
       "    </tr>\n",
       "    <tr>\n",
       "      <th>14</th>\n",
       "      <td>JAX</td>\n",
       "      <td>34954492</td>\n",
       "    </tr>\n",
       "    <tr>\n",
       "      <th>15</th>\n",
       "      <td>KC</td>\n",
       "      <td>13556799</td>\n",
       "    </tr>\n",
       "    <tr>\n",
       "      <th>16</th>\n",
       "      <td>LA</td>\n",
       "      <td>41450883</td>\n",
       "    </tr>\n",
       "    <tr>\n",
       "      <th>17</th>\n",
       "      <td>LAC</td>\n",
       "      <td>22847353</td>\n",
       "    </tr>\n",
       "    <tr>\n",
       "      <th>18</th>\n",
       "      <td>MIA</td>\n",
       "      <td>70180394</td>\n",
       "    </tr>\n",
       "    <tr>\n",
       "      <th>19</th>\n",
       "      <td>MIN</td>\n",
       "      <td>16213132</td>\n",
       "    </tr>\n",
       "    <tr>\n",
       "      <th>20</th>\n",
       "      <td>NE</td>\n",
       "      <td>44321496</td>\n",
       "    </tr>\n",
       "    <tr>\n",
       "      <th>21</th>\n",
       "      <td>NO</td>\n",
       "      <td>19771160</td>\n",
       "    </tr>\n",
       "    <tr>\n",
       "      <th>22</th>\n",
       "      <td>NYG</td>\n",
       "      <td>15841594</td>\n",
       "    </tr>\n",
       "    <tr>\n",
       "      <th>23</th>\n",
       "      <td>NYJ</td>\n",
       "      <td>43818505</td>\n",
       "    </tr>\n",
       "    <tr>\n",
       "      <th>24</th>\n",
       "      <td>OAK</td>\n",
       "      <td>50599773</td>\n",
       "    </tr>\n",
       "    <tr>\n",
       "      <th>25</th>\n",
       "      <td>PHI</td>\n",
       "      <td>34791973</td>\n",
       "    </tr>\n",
       "    <tr>\n",
       "      <th>26</th>\n",
       "      <td>PIT</td>\n",
       "      <td>49131654</td>\n",
       "    </tr>\n",
       "    <tr>\n",
       "      <th>27</th>\n",
       "      <td>SEA</td>\n",
       "      <td>44694631</td>\n",
       "    </tr>\n",
       "    <tr>\n",
       "      <th>28</th>\n",
       "      <td>SF</td>\n",
       "      <td>52205145</td>\n",
       "    </tr>\n",
       "    <tr>\n",
       "      <th>29</th>\n",
       "      <td>TB</td>\n",
       "      <td>9324389</td>\n",
       "    </tr>\n",
       "    <tr>\n",
       "      <th>30</th>\n",
       "      <td>TEN</td>\n",
       "      <td>60350680</td>\n",
       "    </tr>\n",
       "    <tr>\n",
       "      <th>31</th>\n",
       "      <td>WAS</td>\n",
       "      <td>14351058</td>\n",
       "    </tr>\n",
       "  </tbody>\n",
       "</table>\n",
       "</div>"
      ],
      "text/plain": [
       "   team  totalCash\n",
       "0   ARI   36379291\n",
       "1   ATL   61371666\n",
       "2   BAL   46310617\n",
       "3   BUF   33324893\n",
       "4   CAR   77727134\n",
       "5   CHI   34456211\n",
       "6   CIN   29195916\n",
       "7   CLE   36754724\n",
       "8   DAL   31898266\n",
       "9   DEN   26959607\n",
       "10  DET   79987603\n",
       "11   GB   16516429\n",
       "12  HOU   40260973\n",
       "13  IND   25245384\n",
       "14  JAX   34954492\n",
       "15   KC   13556799\n",
       "16   LA   41450883\n",
       "17  LAC   22847353\n",
       "18  MIA   70180394\n",
       "19  MIN   16213132\n",
       "20   NE   44321496\n",
       "21   NO   19771160\n",
       "22  NYG   15841594\n",
       "23  NYJ   43818505\n",
       "24  OAK   50599773\n",
       "25  PHI   34791973\n",
       "26  PIT   49131654\n",
       "27  SEA   44694631\n",
       "28   SF   52205145\n",
       "29   TB    9324389\n",
       "30  TEN   60350680\n",
       "31  WAS   14351058"
      ]
     },
     "execution_count": 76,
     "metadata": {},
     "output_type": "execute_result"
    }
   ],
   "source": [
    "all_teams"
   ]
  },
  {
   "cell_type": "code",
   "execution_count": null,
   "id": "78357618",
   "metadata": {},
   "outputs": [],
   "source": []
  }
 ],
 "metadata": {
  "kernelspec": {
   "display_name": "Python 3 (ipykernel)",
   "language": "python",
   "name": "python3"
  },
  "language_info": {
   "codemirror_mode": {
    "name": "ipython",
    "version": 3
   },
   "file_extension": ".py",
   "mimetype": "text/x-python",
   "name": "python",
   "nbconvert_exporter": "python",
   "pygments_lexer": "ipython3",
   "version": "3.9.12"
  }
 },
 "nbformat": 4,
 "nbformat_minor": 5
}
