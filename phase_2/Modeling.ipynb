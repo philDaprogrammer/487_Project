{
 "cells": [
  {
   "cell_type": "code",
   "execution_count": 1,
   "id": "5ed2b5aa",
   "metadata": {},
   "outputs": [],
   "source": [
    "import pandas as pd\n",
    "from sklearn.metrics import mean_squared_error, r2_score\n",
    "import numpy as np\n",
    "from sklearn.linear_model import LinearRegression\n",
    "import matplotlib.pyplot as plt\n"
   ]
  },
  {
   "cell_type": "code",
   "execution_count": 2,
   "id": "32ca4dcd",
   "metadata": {},
   "outputs": [],
   "source": [
    "df = pd.read_csv(r'modeling_df.csv')"
   ]
  },
  {
   "cell_type": "code",
   "execution_count": 3,
   "id": "05f59c08",
   "metadata": {},
   "outputs": [],
   "source": [
    "df =df.reset_index(drop=True)\n",
    "df = df.drop(['Unnamed: 0.1', 'Unnamed: 0','index'] ,axis=1 )\n",
    "df_2016 = df[df['year'] == 2016]\n",
    "df_2017 = df[df['year'] == 2017]\n"
   ]
  },
  {
   "cell_type": "code",
   "execution_count": 7,
   "id": "356101b2",
   "metadata": {},
   "outputs": [
    {
     "data": {
      "text/html": [
       "<div>\n",
       "<style scoped>\n",
       "    .dataframe tbody tr th:only-of-type {\n",
       "        vertical-align: middle;\n",
       "    }\n",
       "\n",
       "    .dataframe tbody tr th {\n",
       "        vertical-align: top;\n",
       "    }\n",
       "\n",
       "    .dataframe thead th {\n",
       "        text-align: right;\n",
       "    }\n",
       "</style>\n",
       "<table border=\"1\" class=\"dataframe\">\n",
       "  <thead>\n",
       "    <tr style=\"text-align: right;\">\n",
       "      <th></th>\n",
       "      <th>team</th>\n",
       "      <th>wins</th>\n",
       "      <th>position</th>\n",
       "      <th>year</th>\n",
       "      <th>totalCash</th>\n",
       "    </tr>\n",
       "  </thead>\n",
       "  <tbody>\n",
       "    <tr>\n",
       "      <th>0</th>\n",
       "      <td>ARI</td>\n",
       "      <td>3</td>\n",
       "      <td>DB</td>\n",
       "      <td>2018</td>\n",
       "      <td>11906000</td>\n",
       "    </tr>\n",
       "    <tr>\n",
       "      <th>1</th>\n",
       "      <td>ARI</td>\n",
       "      <td>3</td>\n",
       "      <td>K</td>\n",
       "      <td>2018</td>\n",
       "      <td>3000000</td>\n",
       "    </tr>\n",
       "    <tr>\n",
       "      <th>2</th>\n",
       "      <td>ARI</td>\n",
       "      <td>3</td>\n",
       "      <td>S</td>\n",
       "      <td>2018</td>\n",
       "      <td>3750000</td>\n",
       "    </tr>\n",
       "    <tr>\n",
       "      <th>3</th>\n",
       "      <td>ARI</td>\n",
       "      <td>3</td>\n",
       "      <td>WR</td>\n",
       "      <td>2018</td>\n",
       "      <td>555000</td>\n",
       "    </tr>\n",
       "    <tr>\n",
       "      <th>4</th>\n",
       "      <td>ARI</td>\n",
       "      <td>4</td>\n",
       "      <td>WR</td>\n",
       "      <td>2010</td>\n",
       "      <td>6150000</td>\n",
       "    </tr>\n",
       "    <tr>\n",
       "      <th>...</th>\n",
       "      <td>...</td>\n",
       "      <td>...</td>\n",
       "      <td>...</td>\n",
       "      <td>...</td>\n",
       "      <td>...</td>\n",
       "    </tr>\n",
       "    <tr>\n",
       "      <th>1731</th>\n",
       "      <td>WAS</td>\n",
       "      <td>9</td>\n",
       "      <td>QB</td>\n",
       "      <td>2016</td>\n",
       "      <td>3000000</td>\n",
       "    </tr>\n",
       "    <tr>\n",
       "      <th>1732</th>\n",
       "      <td>WAS</td>\n",
       "      <td>9</td>\n",
       "      <td>TE</td>\n",
       "      <td>2016</td>\n",
       "      <td>35000</td>\n",
       "    </tr>\n",
       "    <tr>\n",
       "      <th>1733</th>\n",
       "      <td>WAS</td>\n",
       "      <td>9</td>\n",
       "      <td>WR</td>\n",
       "      <td>2016</td>\n",
       "      <td>5847119</td>\n",
       "    </tr>\n",
       "    <tr>\n",
       "      <th>1734</th>\n",
       "      <td>WAS</td>\n",
       "      <td>10</td>\n",
       "      <td>DE</td>\n",
       "      <td>2012</td>\n",
       "      <td>465000</td>\n",
       "    </tr>\n",
       "    <tr>\n",
       "      <th>1735</th>\n",
       "      <td>WAS</td>\n",
       "      <td>10</td>\n",
       "      <td>TE</td>\n",
       "      <td>2012</td>\n",
       "      <td>540000</td>\n",
       "    </tr>\n",
       "  </tbody>\n",
       "</table>\n",
       "<p>1736 rows × 5 columns</p>\n",
       "</div>"
      ],
      "text/plain": [
       "     team  wins position  year  totalCash\n",
       "0     ARI     3       DB  2018   11906000\n",
       "1     ARI     3        K  2018    3000000\n",
       "2     ARI     3        S  2018    3750000\n",
       "3     ARI     3       WR  2018     555000\n",
       "4     ARI     4       WR  2010    6150000\n",
       "...   ...   ...      ...   ...        ...\n",
       "1731  WAS     9       QB  2016    3000000\n",
       "1732  WAS     9       TE  2016      35000\n",
       "1733  WAS     9       WR  2016    5847119\n",
       "1734  WAS    10       DE  2012     465000\n",
       "1735  WAS    10       TE  2012     540000\n",
       "\n",
       "[1736 rows x 5 columns]"
      ]
     },
     "execution_count": 7,
     "metadata": {},
     "output_type": "execute_result"
    }
   ],
   "source": [
    "pos_df = df.groupby(['team','wins','position','year']).sum().reset_index()\n",
    "pos_df"
   ]
  },
  {
   "cell_type": "code",
   "execution_count": 8,
   "id": "8b426273",
   "metadata": {},
   "outputs": [],
   "source": [
    "offensive_df = pos_df[pos_df['position'].isin([\"WR\", \"OT\", \"OG\", \"C\", \"TE\", \"QB\", \"FB\", \"RB\", \"OL\"])]"
   ]
  },
  {
   "cell_type": "code",
   "execution_count": 9,
   "id": "9b0f9440",
   "metadata": {},
   "outputs": [
    {
     "data": {
      "text/html": [
       "<div>\n",
       "<style scoped>\n",
       "    .dataframe tbody tr th:only-of-type {\n",
       "        vertical-align: middle;\n",
       "    }\n",
       "\n",
       "    .dataframe tbody tr th {\n",
       "        vertical-align: top;\n",
       "    }\n",
       "\n",
       "    .dataframe thead th {\n",
       "        text-align: right;\n",
       "    }\n",
       "</style>\n",
       "<table border=\"1\" class=\"dataframe\">\n",
       "  <thead>\n",
       "    <tr style=\"text-align: right;\">\n",
       "      <th></th>\n",
       "      <th>team</th>\n",
       "      <th>wins</th>\n",
       "      <th>position</th>\n",
       "      <th>year</th>\n",
       "      <th>totalCash</th>\n",
       "    </tr>\n",
       "  </thead>\n",
       "  <tbody>\n",
       "    <tr>\n",
       "      <th>14</th>\n",
       "      <td>ARI</td>\n",
       "      <td>6</td>\n",
       "      <td>WR</td>\n",
       "      <td>2012</td>\n",
       "      <td>26250000</td>\n",
       "    </tr>\n",
       "    <tr>\n",
       "      <th>15</th>\n",
       "      <td>ARI</td>\n",
       "      <td>6</td>\n",
       "      <td>WR</td>\n",
       "      <td>2016</td>\n",
       "      <td>11000000</td>\n",
       "    </tr>\n",
       "    <tr>\n",
       "      <th>17</th>\n",
       "      <td>ARI</td>\n",
       "      <td>7</td>\n",
       "      <td>WR</td>\n",
       "      <td>2011</td>\n",
       "      <td>20000000</td>\n",
       "    </tr>\n",
       "    <tr>\n",
       "      <th>25</th>\n",
       "      <td>ARI</td>\n",
       "      <td>9</td>\n",
       "      <td>WR</td>\n",
       "      <td>2017</td>\n",
       "      <td>11605181</td>\n",
       "    </tr>\n",
       "    <tr>\n",
       "      <th>35</th>\n",
       "      <td>ARI</td>\n",
       "      <td>11</td>\n",
       "      <td>WR</td>\n",
       "      <td>2014</td>\n",
       "      <td>13000000</td>\n",
       "    </tr>\n",
       "    <tr>\n",
       "      <th>...</th>\n",
       "      <td>...</td>\n",
       "      <td>...</td>\n",
       "      <td>...</td>\n",
       "      <td>...</td>\n",
       "      <td>...</td>\n",
       "    </tr>\n",
       "    <tr>\n",
       "      <th>1500</th>\n",
       "      <td>SEA</td>\n",
       "      <td>10</td>\n",
       "      <td>WR</td>\n",
       "      <td>2017</td>\n",
       "      <td>16312659</td>\n",
       "    </tr>\n",
       "    <tr>\n",
       "      <th>1554</th>\n",
       "      <td>SF</td>\n",
       "      <td>6</td>\n",
       "      <td>WR</td>\n",
       "      <td>2010</td>\n",
       "      <td>12795000</td>\n",
       "    </tr>\n",
       "    <tr>\n",
       "      <th>1644</th>\n",
       "      <td>TEN</td>\n",
       "      <td>3</td>\n",
       "      <td>QB</td>\n",
       "      <td>2015</td>\n",
       "      <td>16330324</td>\n",
       "    </tr>\n",
       "    <tr>\n",
       "      <th>1688</th>\n",
       "      <td>TEN</td>\n",
       "      <td>10</td>\n",
       "      <td>OG</td>\n",
       "      <td>2017</td>\n",
       "      <td>17648878</td>\n",
       "    </tr>\n",
       "    <tr>\n",
       "      <th>1721</th>\n",
       "      <td>WAS</td>\n",
       "      <td>8</td>\n",
       "      <td>OL</td>\n",
       "      <td>2015</td>\n",
       "      <td>14161626</td>\n",
       "    </tr>\n",
       "  </tbody>\n",
       "</table>\n",
       "<p>86 rows × 5 columns</p>\n",
       "</div>"
      ],
      "text/plain": [
       "     team  wins position  year  totalCash\n",
       "14    ARI     6       WR  2012   26250000\n",
       "15    ARI     6       WR  2016   11000000\n",
       "17    ARI     7       WR  2011   20000000\n",
       "25    ARI     9       WR  2017   11605181\n",
       "35    ARI    11       WR  2014   13000000\n",
       "...   ...   ...      ...   ...        ...\n",
       "1500  SEA    10       WR  2017   16312659\n",
       "1554   SF     6       WR  2010   12795000\n",
       "1644  TEN     3       QB  2015   16330324\n",
       "1688  TEN    10       OG  2017   17648878\n",
       "1721  WAS     8       OL  2015   14161626\n",
       "\n",
       "[86 rows x 5 columns]"
      ]
     },
     "execution_count": 9,
     "metadata": {},
     "output_type": "execute_result"
    }
   ],
   "source": [
    "#Cap spending less than 10 million is not logical and indicates missing data for that entry\n",
    "offensive_df = offensive_df[offensive_df['totalCash'] > 10000000]"
   ]
  },
  {
   "cell_type": "code",
   "execution_count": 10,
   "id": "ed291967",
   "metadata": {},
   "outputs": [],
   "source": [
    "#We limit the dataframes to only the offensive positions\n",
    "pos_df_2016 = df_2016.groupby(['team','wins','position']).sum().reset_index()\n",
    "offensive_2016 = pos_df_2016[pos_df_2016['position'].isin([\"WR\", \"OT\", \"OG\", \"C\", \"TE\", \"QB\", \"FB\", \"RB\", \"OL\"])]\n",
    "offensive_2016 = offensive_2016.groupby(['team','wins']).sum().reset_index()"
   ]
  },
  {
   "cell_type": "code",
   "execution_count": 11,
   "id": "3e999682",
   "metadata": {},
   "outputs": [],
   "source": [
    "linear_df = offensive_df"
   ]
  },
  {
   "cell_type": "code",
   "execution_count": 12,
   "id": "54e035be",
   "metadata": {},
   "outputs": [
    {
     "name": "stdout",
     "output_type": "stream",
     "text": [
      "Coefficients: \n",
      " [[-1.32812673e-07]]\n",
      "Mean squared error: 11.22\n",
      "Coefficient of determination: -0.07\n"
     ]
    },
    {
     "data": {
      "image/png": "[encoded data removed]",
      "text/plain": [
       "<Figure size 432x288 with 1 Axes>"
      ]
     },
     "metadata": {
      "needs_background": "light"
     },
     "output_type": "display_data"
    }
   ],
   "source": [
    "#https://scikit-learn.org/stable/modules/generated/sklearn.linear_model.LinearRegression.html\n",
    "X = np.array(linear_df['totalCash']).reshape(-1, 1)\n",
    "y = np.array(linear_df['wins']).reshape(-1,1)\n",
    "\n",
    "# Split the totalCash spent into training and test set\n",
    "X_train = X[:20]\n",
    "X_test = X[20:]\n",
    "\n",
    "# Split the predicted wins into training and test set\n",
    "y_train = y[:20]\n",
    "y_test = y[20:]\n",
    "\n",
    "\n",
    "reg = LinearRegression().fit(X_train, y_train)\n",
    "reg.score(X_train, y_train)\n",
    "\n",
    "\n",
    "#https://scikit-learn.org/stable/auto_examples/linear_model/plot_ols.html\n",
    "y_pred = reg.predict(X_test)\n",
    "\n",
    "# The coefficients\n",
    "print(\"Coefficients: \\n\", reg.coef_)\n",
    "# The mean squared error\n",
    "print(\"Mean squared error: %.2f\" % mean_squared_error(y_test, y_pred))\n",
    "# The coefficient of determination: 1 is perfect prediction\n",
    "print(\"Coefficient of determination: %.2f\" % r2_score(y_test, y_pred))\n",
    "\n",
    "# Plot outputs\n",
    "plt.scatter(X_test, y_test, color=\"black\")\n",
    "plt.plot(X_test, y_pred, color=\"blue\", linewidth=3)\n",
    "plt.xlabel('Amount of Offensive Cash spent 10s of Millions')\n",
    "plt.ylabel('Wins')\n",
    "plt.title('Offensive Cash spent vs. Wins')\n",
    "plt.show()"
   ]
  },
  {
   "cell_type": "code",
   "execution_count": 13,
   "id": "b495bf76",
   "metadata": {},
   "outputs": [
    {
     "name": "stdout",
     "output_type": "stream",
     "text": [
      "Coefficients: \n",
      " [[7.84677086e-08]]\n",
      "Mean squared error: 6.28\n",
      "Coefficient of determination: 0.21\n"
     ]
    },
    {
     "data": {
      "image/png": "[encoded data removed]",
      "text/plain": [
       "<Figure size 432x288 with 1 Axes>"
      ]
     },
     "metadata": {
      "needs_background": "light"
     },
     "output_type": "display_data"
    }
   ],
   "source": [
    "linear_df = offensive_2016\n",
    "#https://scikit-learn.org/stable/modules/generated/sklearn.linear_model.LinearRegression.html\n",
    "X = np.array(linear_df['totalCash']).reshape(-1, 1)\n",
    "y = np.array(linear_df['wins']).reshape(-1,1)\n",
    "\n",
    "# Split the totalCash spent into training and test set\n",
    "X_train = X[:20]\n",
    "X_test = X[20:]\n",
    "\n",
    "# Split the predicted wins into training and test set\n",
    "y_train = y[:20]\n",
    "y_test = y[20:]\n",
    "\n",
    "\n",
    "reg = LinearRegression().fit(X_train, y_train)\n",
    "reg.score(X_train, y_train)\n",
    "\n",
    "\n",
    "#https://scikit-learn.org/stable/auto_examples/linear_model/plot_ols.html\n",
    "y_pred = reg.predict(X_test)\n",
    "\n",
    "# The coefficients\n",
    "print(\"Coefficients: \\n\", reg.coef_)\n",
    "# The mean squared error\n",
    "print(\"Mean squared error: %.2f\" % mean_squared_error(y_test, y_pred))\n",
    "# The coefficient of determination: 1 is perfect prediction\n",
    "print(\"Coefficient of determination: %.2f\" % r2_score(y_test, y_pred))\n",
    "\n",
    "# Plot outputs\n",
    "plt.scatter(X_test, y_test, color=\"black\")\n",
    "plt.plot(X_test, y_pred, color=\"blue\", linewidth=3)\n",
    "plt.xlabel('Amount of Offensive Cash spent 10s of Millions')\n",
    "plt.ylabel('Wins')\n",
    "plt.title('Offensive Cash spent vs. Wins')\n",
    "plt.show()"
   ]
  },
  {
   "cell_type": "code",
   "execution_count": 14,
   "id": "3a9852b6",
   "metadata": {},
   "outputs": [
    {
     "data": {
      "text/html": [
       "<div>\n",
       "<style scoped>\n",
       "    .dataframe tbody tr th:only-of-type {\n",
       "        vertical-align: middle;\n",
       "    }\n",
       "\n",
       "    .dataframe tbody tr th {\n",
       "        vertical-align: top;\n",
       "    }\n",
       "\n",
       "    .dataframe thead th {\n",
       "        text-align: right;\n",
       "    }\n",
       "</style>\n",
       "<table border=\"1\" class=\"dataframe\">\n",
       "  <thead>\n",
       "    <tr style=\"text-align: right;\">\n",
       "      <th></th>\n",
       "      <th>team</th>\n",
       "      <th>wins</th>\n",
       "      <th>position</th>\n",
       "      <th>year</th>\n",
       "      <th>totalCash</th>\n",
       "    </tr>\n",
       "  </thead>\n",
       "  <tbody>\n",
       "    <tr>\n",
       "      <th>0</th>\n",
       "      <td>ARI</td>\n",
       "      <td>3</td>\n",
       "      <td>DB</td>\n",
       "      <td>2018</td>\n",
       "      <td>11906000</td>\n",
       "    </tr>\n",
       "    <tr>\n",
       "      <th>4</th>\n",
       "      <td>ARI</td>\n",
       "      <td>4</td>\n",
       "      <td>WR</td>\n",
       "      <td>2010</td>\n",
       "      <td>6150000</td>\n",
       "    </tr>\n",
       "    <tr>\n",
       "      <th>7</th>\n",
       "      <td>ARI</td>\n",
       "      <td>6</td>\n",
       "      <td>DB</td>\n",
       "      <td>2016</td>\n",
       "      <td>13636495</td>\n",
       "    </tr>\n",
       "    <tr>\n",
       "      <th>14</th>\n",
       "      <td>ARI</td>\n",
       "      <td>6</td>\n",
       "      <td>WR</td>\n",
       "      <td>2012</td>\n",
       "      <td>26250000</td>\n",
       "    </tr>\n",
       "    <tr>\n",
       "      <th>15</th>\n",
       "      <td>ARI</td>\n",
       "      <td>6</td>\n",
       "      <td>WR</td>\n",
       "      <td>2016</td>\n",
       "      <td>11000000</td>\n",
       "    </tr>\n",
       "    <tr>\n",
       "      <th>...</th>\n",
       "      <td>...</td>\n",
       "      <td>...</td>\n",
       "      <td>...</td>\n",
       "      <td>...</td>\n",
       "      <td>...</td>\n",
       "    </tr>\n",
       "    <tr>\n",
       "      <th>1692</th>\n",
       "      <td>TEN</td>\n",
       "      <td>10</td>\n",
       "      <td>S</td>\n",
       "      <td>2017</td>\n",
       "      <td>7000000</td>\n",
       "    </tr>\n",
       "    <tr>\n",
       "      <th>1717</th>\n",
       "      <td>WAS</td>\n",
       "      <td>8</td>\n",
       "      <td>DB</td>\n",
       "      <td>2015</td>\n",
       "      <td>7833948</td>\n",
       "    </tr>\n",
       "    <tr>\n",
       "      <th>1719</th>\n",
       "      <td>WAS</td>\n",
       "      <td>8</td>\n",
       "      <td>DT</td>\n",
       "      <td>2015</td>\n",
       "      <td>8007249</td>\n",
       "    </tr>\n",
       "    <tr>\n",
       "      <th>1721</th>\n",
       "      <td>WAS</td>\n",
       "      <td>8</td>\n",
       "      <td>OL</td>\n",
       "      <td>2015</td>\n",
       "      <td>14161626</td>\n",
       "    </tr>\n",
       "    <tr>\n",
       "      <th>1733</th>\n",
       "      <td>WAS</td>\n",
       "      <td>9</td>\n",
       "      <td>WR</td>\n",
       "      <td>2016</td>\n",
       "      <td>5847119</td>\n",
       "    </tr>\n",
       "  </tbody>\n",
       "</table>\n",
       "<p>367 rows × 5 columns</p>\n",
       "</div>"
      ],
      "text/plain": [
       "     team  wins position  year  totalCash\n",
       "0     ARI     3       DB  2018   11906000\n",
       "4     ARI     4       WR  2010    6150000\n",
       "7     ARI     6       DB  2016   13636495\n",
       "14    ARI     6       WR  2012   26250000\n",
       "15    ARI     6       WR  2016   11000000\n",
       "...   ...   ...      ...   ...        ...\n",
       "1692  TEN    10        S  2017    7000000\n",
       "1717  WAS     8       DB  2015    7833948\n",
       "1719  WAS     8       DT  2015    8007249\n",
       "1721  WAS     8       OL  2015   14161626\n",
       "1733  WAS     9       WR  2016    5847119\n",
       "\n",
       "[367 rows x 5 columns]"
      ]
     },
     "execution_count": 14,
     "metadata": {},
     "output_type": "execute_result"
    }
   ],
   "source": [
    "pos_df_year = pos_df\n",
    "pos_df_year = pos_df_year[pos_df['totalCash']> 5000000]\n",
    "QB_df = pos_df_year[pos_df_year['position'] == 'QB'].reset_index().drop(['position'], axis = 1)\n",
    "RB_df = pos_df_year[pos_df_year['position'] == 'RB'].reset_index().drop(['position'], axis =1)\n",
    "pos_df_year"
   ]
  },
  {
   "cell_type": "code",
   "execution_count": 15,
   "id": "93b9340e",
   "metadata": {},
   "outputs": [],
   "source": [
    "QB_df['QB_spend'] = QB_df['totalCash']\n",
    "QB_df['RB_spend'] = RB_df['totalCash']\n",
    "spend_df = QB_df\n",
    "#https://numpy.org/doc/stable/reference/generated/numpy.where.html\n",
    "#Create an extra colum to check if a teamhas more than 8 wins. I use red and blue to indicate true and false \n",
    "spend_df['ten_or_more_wins'] = np.where(spend_df['wins'] > 8 , \"red\", \"blue\")\n",
    "spend_df = spend_df.dropna()"
   ]
  },
  {
   "cell_type": "code",
   "execution_count": 16,
   "id": "16615f97",
   "metadata": {},
   "outputs": [
    {
     "data": {
      "image/png": "[encoded data removed]",
      "text/plain": [
       "<Figure size 432x288 with 1 Axes>"
      ]
     },
     "metadata": {
      "needs_background": "light"
     },
     "output_type": "display_data"
    }
   ],
   "source": [
    "plt.scatter(spend_df['QB_spend'], spend_df['RB_spend'], color=spend_df[\"ten_or_more_wins\"])\n",
    "plt.xlabel('QB_Spend (10s of millions)')\n",
    "plt.ylabel('RB_Spend (10s of millions)')\n",
    "plt.title('QB_Spend vs. RB_spend')\n",
    "plt.show()"
   ]
  },
  {
   "cell_type": "code",
   "execution_count": 17,
   "id": "d88c435e",
   "metadata": {},
   "outputs": [],
   "source": [
    "from sklearn.model_selection import train_test_split\n",
    "X = spend_df.drop(['team', 'wins', 'totalCash', 'year', 'ten_or_more_wins'] , axis =1)\n",
    "y = spend_df['ten_or_more_wins']\n",
    "X_train, X_test, y_train, y_test = train_test_split(X, y, test_size=0.3)\n"
   ]
  },
  {
   "cell_type": "code",
   "execution_count": 18,
   "id": "d49a5923",
   "metadata": {},
   "outputs": [
    {
     "data": {
      "text/plain": [
       "0.625"
      ]
     },
     "execution_count": 18,
     "metadata": {},
     "output_type": "execute_result"
    }
   ],
   "source": [
    "#https://scikit-learn.org/stable/modules/generated/sklearn.neighbors.KNeighborsClassifier.html\n",
    "#https://www.datacamp.com/tutorial/k-nearest-neighbor-classification-scikit-learn\n",
    "#I picked 1 neighbor due to the lack of data available to classify\n",
    "from sklearn.neighbors import KNeighborsClassifier\n",
    "knn = KNeighborsClassifier(n_neighbors=1)\n",
    "knn.fit(X_train, y_train)\n",
    "X_train\n",
    "from sklearn.metrics import accuracy_score\n",
    "y_pred = knn.predict(X_test)\n",
    "accuracy = accuracy_score(y_test, y_pred)\n",
    "accuracy"
   ]
  },
  {
   "cell_type": "code",
   "execution_count": 19,
   "id": "9fce6762",
   "metadata": {},
   "outputs": [
    {
     "data": {
      "text/plain": [
       "array(['blue', 'red', 'blue', 'blue', 'blue', 'blue', 'blue', 'blue'],\n",
       "      dtype=object)"
      ]
     },
     "execution_count": 19,
     "metadata": {},
     "output_type": "execute_result"
    }
   ],
   "source": [
    "y_pred"
   ]
  },
  {
   "cell_type": "code",
   "execution_count": 20,
   "id": "b191d1e5",
   "metadata": {},
   "outputs": [
    {
     "data": {
      "text/plain": [
       "8      red\n",
       "19    blue\n",
       "24    blue\n",
       "2     blue\n",
       "21    blue\n",
       "6     blue\n",
       "11     red\n",
       "1     blue\n",
       "Name: ten_or_more_wins, dtype: object"
      ]
     },
     "execution_count": 20,
     "metadata": {},
     "output_type": "execute_result"
    }
   ],
   "source": [
    "y_test"
   ]
  },
  {
   "cell_type": "code",
   "execution_count": null,
   "id": "c3c1cce8",
   "metadata": {},
   "outputs": [],
   "source": []
  },
  {
   "cell_type": "code",
   "execution_count": null,
   "id": "ce25d945",
   "metadata": {},
   "outputs": [],
   "source": []
  },
  {
   "cell_type": "code",
   "execution_count": null,
   "id": "fca1618e",
   "metadata": {},
   "outputs": [],
   "source": []
  },
  {
   "cell_type": "code",
   "execution_count": null,
   "id": "1cab6751",
   "metadata": {},
   "outputs": [],
   "source": []
  },
  {
   "cell_type": "code",
   "execution_count": null,
   "id": "27f5605b",
   "metadata": {},
   "outputs": [],
   "source": []
  },
  {
   "cell_type": "code",
   "execution_count": null,
   "id": "76f37a16",
   "metadata": {},
   "outputs": [],
   "source": []
  },
  {
   "cell_type": "code",
   "execution_count": null,
   "id": "9b96928a",
   "metadata": {},
   "outputs": [],
   "source": []
  }
 ],
 "metadata": {
  "kernelspec": {
   "display_name": "Python 3 (ipykernel)",
   "language": "python",
   "name": "python3"
  },
  "language_info": {
   "codemirror_mode": {
    "name": "ipython",
    "version": 3
   },
   "file_extension": ".py",
   "mimetype": "text/x-python",
   "name": "python",
   "nbconvert_exporter": "python",
   "pygments_lexer": "ipython3",
   "version": "3.9.12"
  }
 },
 "nbformat": 4,
 "nbformat_minor": 5
}
